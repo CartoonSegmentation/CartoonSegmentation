{
  "cells": [
    {
      "cell_type": "code",
      "execution_count": null,
      "metadata": {
        "colab": {
          "base_uri": "https://localhost:8080/"
        },
        "id": "PLNFEbtCNozR",
        "outputId": "f18e0594-32cb-4ebc-d777-24ae34f9b1af"
      },
      "outputs": [],
      "source": [
        "!git clone https://github.com/CartoonSegmentation/CartoonSegmentation\n",
        "%cd CartoonSegmentation"
      ]
    },
    {
      "cell_type": "markdown",
      "metadata": {
        "id": "3dSI3o0whvvs"
      },
      "source": [
        "Prepare requirements"
      ]
    },
    {
      "cell_type": "code",
      "execution_count": null,
      "metadata": {
        "colab": {
          "base_uri": "https://localhost:8080/",
          "height": 1000
        },
        "id": "aIY9HB6ymuE3",
        "outputId": "8efa7bac-bff5-4524-c2ad-c2d69254fda2"
      },
      "outputs": [],
      "source": [
        "!pip install -f https://download.pytorch.org/whl/torch_stable.html torch==2.1.0+cu118\n",
        "!pip install -f https://download.pytorch.org/whl/torch_stable.html torchvision==0.16.0+cu118\n",
        "\n",
        "!pip install -U openmim\n",
        "!mim install mmcv mmdet mmengine\n",
        "\n",
        "!pip install -r requirements.txt"
      ]
    },
    {
      "cell_type": "code",
      "execution_count": null,
      "metadata": {
        "colab": {
          "base_uri": "https://localhost:8080/"
        },
        "id": "EyCajPaBnNJ6",
        "outputId": "4d493fec-6ff3-48a7-c9cc-f7f1c2ab32c6"
      },
      "outputs": [],
      "source": [
        "# !pip install git+https://github.com/lucasb-eyer/pydensecrf.git\n",
        "!huggingface-cli lfs-enable-largefiles .\n",
        "!mkdir models\n",
        "!git clone https://huggingface.co/dreMaz/AnimeInstanceSegmentation models/AnimeInstanceSegmentation\n",
        "!git clone https://huggingface.co/SmilingWolf/wd-v1-4-swinv2-tagger-v2 models/wd-v1-4-swinv2-tagger-v2"
      ]
    },
    {
      "cell_type": "markdown",
      "metadata": {
        "id": "BmZ0RZoectWA"
      },
      "source": [
        "Prepare local libraries"
      ]
    },
    {
      "cell_type": "code",
      "execution_count": null,
      "metadata": {
        "colab": {
          "base_uri": "https://localhost:8080/"
        },
        "id": "Sstr53RnqFK_",
        "outputId": "350c22a6-05fb-4856-e832-e1320bc26e5b"
      },
      "outputs": [],
      "source": [
        "!apt install build-essential libopencv-dev -y\n",
        "!mkdir -p data/libs\n",
        "!git clone https://github.com/AnimeIns/PyPatchMatch\n",
        "%cd PyPatchMatch\n",
        "!mkdir release\n",
        "%cd release\n",
        "\n",
        "!cmake -DCMAKE_BUILD_TYPE=Release ..\n",
        "!make\n",
        "%cd ../..\n",
        "!mv PyPatchMatch/release/libpatchmatch_inpaint.so data/libs\n",
        "!rm -rf PyPatchMatch"
      ]
    },
    {
      "cell_type": "markdown",
      "metadata": {
        "id": "_gJbHHhR2qNl"
      },
      "source": [
        "Launch Web UI"
      ]
    },
    {
      "cell_type": "code",
      "execution_count": null,
      "metadata": {
        "colab": {
          "base_uri": "https://localhost:8080/"
        },
        "id": "P-X_dNLeosu-",
        "outputId": "a51ac601-8964-4bec-91ca-9e4da46b47db"
      },
      "outputs": [],
      "source": [
        "!python Web_UI/Launcher.py"
      ]
    }
  ],
  "metadata": {
    "accelerator": "GPU",
    "colab": {
      "gpuType": "T4",
      "provenance": []
    },
    "kernelspec": {
      "display_name": "Python 3",
      "name": "python3"
    },
    "language_info": {
      "name": "python"
    }
  },
  "nbformat": 4,
  "nbformat_minor": 0
}
