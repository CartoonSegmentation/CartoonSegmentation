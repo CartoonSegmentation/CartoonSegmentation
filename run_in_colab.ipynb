{
  "cells": [
    {
      "cell_type": "markdown",
      "source": [
        "# Project files deploying"
      ],
      "metadata": {
        "id": "EnzS36wUS1t_"
      }
    },
    {
      "cell_type": "code",
      "source": [
        "# Download it from GitHub\n",
        "!git clone https://github.com/CartoonSegmentation/CartoonSegmentation"
      ],
      "metadata": {
        "id": "aCOSc120S9hu"
      },
      "execution_count": null,
      "outputs": []
    },
    {
      "cell_type": "code",
      "source": [
        "%cd CartoonSegmentation\n",
        "#\n",
        "!ls -alh"
      ],
      "metadata": {
        "id": "86ual2npx6hl"
      },
      "execution_count": null,
      "outputs": []
    },
    {
      "cell_type": "markdown",
      "source": [
        "# Requirements preparing"
      ],
      "metadata": {
        "id": "hb1fKCHAQckh"
      }
    },
    {
      "cell_type": "markdown",
      "source": [
        "## 1. Install Python libraries"
      ],
      "metadata": {
        "id": "HExYcdy-QhXx"
      }
    },
    {
      "cell_type": "code",
      "execution_count": null,
      "metadata": {
        "id": "aIY9HB6ymuE3"
      },
      "outputs": [],
      "source": [
        "# Install MMCV related libraries via its official installer OpenMM, for better compatibility\n",
        "!pip install -U openmim\n",
        "!mim install mmcv mmdet mmengine"
      ]
    },
    {
      "cell_type": "code",
      "execution_count": null,
      "metadata": {
        "id": "5C6R7zUVhzs_"
      },
      "outputs": [],
      "source": [
        "# Install PyTorch GPU version and its compatible TorchVision from PyTorch website official WHL format binary\n",
        "!pip install -f https://download.pytorch.org/whl/torch_stable.html torch==2.1.0+cu118\n",
        "!pip install -f https://download.pytorch.org/whl/torch_stable.html torchvision==0.16.0+cu118"
      ]
    },
    {
      "cell_type": "code",
      "execution_count": null,
      "metadata": {
        "id": "Utnx-ct6m0rB"
      },
      "outputs": [],
      "source": [
        "# Install general libraries\n",
        "!pip install -r requirements.txt"
      ]
    },
    {
      "cell_type": "markdown",
      "source": [
        "## 2. Download related Models for PyTorch"
      ],
      "metadata": {
        "id": "4YBN52I3QoXd"
      }
    },
    {
      "cell_type": "code",
      "source": [
        "# Create Folder for Models\n",
        "!mkdir models\n",
        "\n",
        "# Anime Instance Segmentation\n",
        "!git clone https://huggingface.co/dreMaz/AnimeInstanceSegmentation models/AnimeInstanceSegmentation\n",
        "\n",
        "# # anime-seg (Anime Segmentation)\n",
        "# !git clone https://huggingface.co/skytnt/anime-seg models/anime-seg\n",
        "\n",
        "# # LERES (Learning to Recover 3-Dimension Scene Shape from a Single Image)\n",
        "# # ?Pending\n",
        "# !curl https://cloudstor.aarnet.edu.au/plus/s/lTIJF4vrvHCAI31/download models/leres\n",
        "\n",
        "# For inpainting in Stabel Diffusion Web UI, wd-v1-4-swinv2-tagger-v2 (Waifu Diffusion 1.4 + Swin 2-Tagger 2) is required\n",
        "!git clone https://huggingface.co/SmilingWolf/wd-v1-4-swinv2-tagger-v2 models/wd-v1-4-swinv2-tagger-v2"
      ],
      "metadata": {
        "id": "MNzt8ygXN0mj"
      },
      "execution_count": null,
      "outputs": []
    },
    {
      "cell_type": "markdown",
      "source": [
        "## 3. Prepare local libraries"
      ],
      "metadata": {
        "id": "N2CiOI6AR9jE"
      }
    },
    {
      "cell_type": "code",
      "execution_count": null,
      "metadata": {
        "id": "Sstr53RnqFK_"
      },
      "outputs": [],
      "source": [
        "!apt install build-essential libopencv-dev -y"
      ]
    },
    {
      "cell_type": "code",
      "execution_count": null,
      "metadata": {
        "id": "LfN1gF-4pAS4"
      },
      "outputs": [],
      "source": [
        "!mkdir -p data/libs\n",
        "#\n",
        "!ls data/libs -alh"
      ]
    },
    {
      "cell_type": "code",
      "execution_count": null,
      "metadata": {
        "id": "z-Dpj6q3qHCR"
      },
      "outputs": [],
      "source": [
        "!git clone https://github.com/AnimeIns/PyPatchMatch"
      ]
    },
    {
      "cell_type": "code",
      "execution_count": null,
      "metadata": {
        "id": "ZP8j3N2mzEfX"
      },
      "outputs": [],
      "source": [
        "%cd PyPatchMatch\n",
        "#\n",
        "!ls -alh"
      ]
    },
    {
      "cell_type": "code",
      "execution_count": null,
      "metadata": {
        "id": "yiKCQvinzLTS"
      },
      "outputs": [],
      "source": [
        "!mkdir release\n",
        "\n",
        "%cd release\n",
        "#\n",
        "!ls -alh"
      ]
    },
    {
      "cell_type": "code",
      "execution_count": null,
      "metadata": {
        "id": "EYTaUSbCqJSn"
      },
      "outputs": [],
      "source": [
        "!cmake -DCMAKE_BUILD_TYPE=Release .."
      ]
    },
    {
      "cell_type": "code",
      "execution_count": null,
      "metadata": {
        "id": "5wgblxbIzQt0"
      },
      "outputs": [],
      "source": [
        "!make\n",
        "\n",
        "# Check the status of generation of libpatchmatch_inpaint.so\n",
        "!ls -alh"
      ]
    },
    {
      "cell_type": "code",
      "execution_count": null,
      "metadata": {
        "id": "szNQU5mpzYxF"
      },
      "outputs": [],
      "source": [
        "# Back to the project directory\n",
        "%cd ../..\n",
        "#\n",
        "!ls -alh"
      ]
    },
    {
      "cell_type": "code",
      "execution_count": null,
      "metadata": {
        "id": "K8Rp1fK1zgYv"
      },
      "outputs": [],
      "source": [
        "!mv PyPatchMatch/release/libpatchmatch_inpaint.so data/libs\n",
        "#\n",
        "!ls data/libs -alh"
      ]
    },
    {
      "cell_type": "code",
      "execution_count": 25,
      "metadata": {
        "id": "lxBue1AJzj11"
      },
      "outputs": [],
      "source": [
        "!rm -rf PyPatchMatch"
      ]
    },
    {
      "cell_type": "markdown",
      "source": [
        "## 4. If it is required, prepare SDWUI (Stable Diffusion Web UI)"
      ],
      "metadata": {
        "id": "GfaHicthSE1X"
      }
    },
    {
      "cell_type": "code",
      "source": [
        "# Only configuration changes list here\n",
        "\n",
        "# Modify the Configuration to suit current API URL provided by SDWUI:\n",
        "# 1. inpaint_type: default\n",
        "#  → inpaint_type: ldm\n",
        "#\n",
        "# 2. sd_img2img_url: http://127.0.0.1:7860/sdapi/v1/img2img\n",
        "#  → sd_img2img_url: <Your URL, e.g.: prototype://ipaddress:port>/sdapi/v1/img2img"
      ],
      "metadata": {
        "id": "_8dnKgBtV8li"
      },
      "execution_count": null,
      "outputs": []
    },
    {
      "cell_type": "markdown",
      "source": [
        "# Web UI executing"
      ],
      "metadata": {
        "id": "f7aKYdblSXrB"
      }
    },
    {
      "cell_type": "code",
      "execution_count": null,
      "metadata": {
        "id": "P-X_dNLeosu-"
      },
      "outputs": [],
      "source": [
        "!python Web_UI/Launcher.py"
      ]
    }
  ],
  "metadata": {
    "accelerator": "GPU",
    "colab": {
      "provenance": [],
      "collapsed_sections": [
        "p3dgxQchVA4k"
      ],
      "gpuType": "T4"
    },
    "kernelspec": {
      "display_name": "Python 3",
      "name": "python3"
    },
    "language_info": {
      "name": "python"
    }
  },
  "nbformat": 4,
  "nbformat_minor": 0
}